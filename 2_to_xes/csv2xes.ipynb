{
 "cells": [
  {
   "cell_type": "markdown",
   "metadata": {},
   "source": [
    "## MIMIC-IV EventLog Curation\n",
    "1. import CSV into pandas dataframe\n",
    "2. convert processed dataframe to event log structure by `pm4py`\n",
    "3. export event log to XES file by `pm4py`"
   ]
  },
  {
   "cell_type": "code",
   "execution_count": null,
   "metadata": {},
   "outputs": [],
   "source": [
    "# import required library\n",
    "import os\n",
    "import pm4py\n",
    "import numpy as np\n",
    "import pandas as pd\n",
    "from pm4py.objects.log.util import dataframe_utils\n",
    "from pm4py.objects.conversion.log import converter as log_converter\n",
    "from pm4py.objects.log.exporter.xes import exporter as xes_exporter"
   ]
  },
  {
   "cell_type": "markdown",
   "metadata": {},
   "source": [
    "### Import CSV log into pandas dataframe\n",
    "Please change the path for your CSV file below."
   ]
  },
  {
   "cell_type": "code",
   "execution_count": null,
   "metadata": {
    "pycharm": {
     "name": "#%%\n"
    }
   },
   "outputs": [],
   "source": [
    "csv_file_path = \"your_file_path_here.csv.gz\" # or \"your_file_path_here.csv\"\n",
    "\n",
    "# log_csv = pd.read_csv(csv_file_path, sep=',')\n",
    "log_csv = pd.read_csv(csv_file_path, sep=',', compression='gzip', header=0)"
   ]
  },
  {
   "cell_type": "code",
   "execution_count": null,
   "metadata": {},
   "outputs": [],
   "source": [
    "log_csv.head(20)"
   ]
  },
  {
   "cell_type": "markdown",
   "metadata": {
    "pycharm": {
     "name": "#%% md\n"
    }
   },
   "source": [
    "### Process the dataframe and convert it to `pm4py` event log structure\n",
    "The default attributes in `pm4py` package:\n",
    "\n",
    "- Case ID --> `case:concept:name`\n",
    "- Timestamps -->  `timestamps`\n",
    "- Case attributes -->  start with `case:`"
   ]
  },
  {
   "cell_type": "code",
   "execution_count": null,
   "metadata": {
    "pycharm": {
     "name": "#%%\n"
    }
   },
   "outputs": [],
   "source": [
    "# rename some attributes name\n",
    "log_csv.rename(columns=\n",
    "    {\n",
    "        'stay_id':'case:concept:name',\n",
    "        'timestamps':'timestamp', \n",
    "        'subject_id': 'case:subject_id', \n",
    "        'hadm_id':'case:hadm_id', \n",
    "        'acuity': 'case:acuity', \n",
    "        'chiefcomplaint': 'case:chiefcomplaint'}, inplace=True)"
   ]
  },
  {
   "cell_type": "markdown",
   "metadata": {
    "pycharm": {
     "name": "#%% md\n"
    }
   },
   "source": [
    "`pm4py` will select values in the first row of each case for case attributes. Thus, we need fill in rows with empty case attribute\n",
    "\n",
    "For example: `case:acuity`, `case:chiefcomplaint`"
   ]
  },
  {
   "cell_type": "code",
   "execution_count": null,
   "metadata": {
    "pycharm": {
     "name": "#%%\n"
    }
   },
   "outputs": [],
   "source": [
    "log_csv['case:acuity'] = log_csv.groupby('case:concept:name')['case:acuity'].transform(lambda v: v.ffill().bfill())\n",
    "log_csv['case:chiefcomplaint'] = log_csv.groupby('case:concept:name')['case:chiefcomplaint'].transform(lambda v: v.ffill().bfill())"
   ]
  },
  {
   "cell_type": "markdown",
   "metadata": {},
   "source": [
    "`pm4py` has built-in fuctions for transforming the data type of timestamp in the dataframe.\n",
    "\n",
    "Function `pm4py.objects.log.util.dataframe_utils.convert_timestamp_columns_in_df`\n",
    "\n",
    "When using this function, make sure that the column name of timestamp is `timestamp`."
   ]
  },
  {
   "cell_type": "code",
   "execution_count": null,
   "metadata": {
    "pycharm": {
     "name": "#%%\n"
    }
   },
   "outputs": [],
   "source": [
    "log_csv = dataframe_utils.convert_timestamp_columns_in_df(log_csv)\n",
    "log_csv = log_csv.sort_values('timestamp')"
   ]
  },
  {
   "cell_type": "code",
   "execution_count": null,
   "metadata": {
    "pycharm": {
     "name": "#%%\n"
    }
   },
   "outputs": [],
   "source": [
    "# check the first 20 rows\n",
    "log_csv.head(20)"
   ]
  },
  {
   "cell_type": "markdown",
   "metadata": {},
   "source": [
    "### Export event log data to XES file\n",
    "\n",
    "The default export setting for exporting XES file requires using the default column name of case id `case:concept:name`. But you can use parameters to specify a different name."
   ]
  },
  {
   "cell_type": "code",
   "execution_count": null,
   "metadata": {
    "pycharm": {
     "name": "#%%\n"
    }
   },
   "outputs": [],
   "source": [
    "# # You can set parameters for using different column name of case id\n",
    "# parameters = {log_converter.Variants.TO_EVENT_LOG.value.Parameters.CASE_ID_KEY: 'case:stay_id'}\n",
    "# event_log = log_converter.apply(log_csv, parameters=parameters, variant=log_converter.Variants.TO_EVENT_LOG)\n",
    "\n",
    "# default usage\n",
    "event_log = log_converter.apply(log_csv, variant=log_converter.Variants.TO_EVENT_LOG)"
   ]
  },
  {
   "cell_type": "code",
   "execution_count": null,
   "metadata": {
    "pycharm": {
     "name": "#%%\n"
    }
   },
   "outputs": [],
   "source": [
    "xes_file_path = \"your_file_path_here.xes\"\n",
    "xes_exporter.apply(event_log, xes_file_path, parameters={xes_exporter.Variants.ETREE.value.Parameters.COMPRESS: True})"
   ]
  },
  {
   "cell_type": "code",
   "execution_count": null,
   "metadata": {
    "pycharm": {
     "name": "#%%\n"
    }
   },
   "outputs": [],
   "source": []
  }
 ],
 "metadata": {
  "kernelspec": {
   "display_name": "Python 3 (ipykernel)",
   "language": "python",
   "name": "python3"
  },
  "language_info": {
   "codemirror_mode": {
    "name": "ipython",
    "version": 3
   },
   "file_extension": ".py",
   "mimetype": "text/x-python",
   "name": "python",
   "nbconvert_exporter": "python",
   "pygments_lexer": "ipython3",
   "version": "3.9.10"
  }
 },
 "nbformat": 4,
 "nbformat_minor": 1
}
