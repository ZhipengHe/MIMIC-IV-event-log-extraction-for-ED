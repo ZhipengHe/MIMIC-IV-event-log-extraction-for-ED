{
 "cells": [
  {
   "attachments": {},
   "cell_type": "markdown",
   "metadata": {},
   "source": [
    "## MIMIC-IV EventLog Curation\n",
    "1. import CSV into pandas dataframe\n",
    "2. convert processed dataframe to event log structure by `pm4py`\n",
    "3. export event log to XES file by `pm4py`"
   ]
  },
  {
   "cell_type": "code",
   "execution_count": null,
   "metadata": {},
   "outputs": [],
   "source": [
    "# import required library\n",
    "import os\n",
    "import pm4py\n",
    "import numpy as np\n",
    "import pandas as pd\n",
    "from pm4py.objects.log.util import dataframe_utils"
   ]
  },
  {
   "attachments": {},
   "cell_type": "markdown",
   "metadata": {},
   "source": [
    "### Import CSV log into pandas dataframe\n",
    "Please change the path for your CSV file below."
   ]
  },
  {
   "cell_type": "code",
   "execution_count": null,
   "metadata": {},
   "outputs": [],
   "source": [
    "csv_file_path = \"mimicel.csv\" # or \"your_file_path_here.csv\"\n",
    "\n",
    "log_csv = pd.read_csv(csv_file_path, sep=',', dtype=object) \n",
    "# log_csv = pd.read_csv(csv_file_path, sep=',', compression='gzip', header=0)"
   ]
  },
  {
   "attachments": {},
   "cell_type": "markdown",
   "metadata": {},
   "source": [
    "### Process the dataframe and convert it to `pm4py` event log structure\n",
    "The default attributes in `pm4py` package:\n",
    "\n",
    "- Case attributes -->  start with `case:`"
   ]
  },
  {
   "cell_type": "code",
   "execution_count": null,
   "metadata": {},
   "outputs": [],
   "source": [
    "# rename some attributes name\n",
    "log_csv.rename(columns=\n",
    "    {\n",
    "        # Standardization for CaseID, activity and timestamp\n",
    "        'stay_id':'case:concept:name',\n",
    "        'activity':'concept:name',\n",
    "        'timestamps':'time:timestamp', \n",
    "\n",
    "        # Standardization for Case attributes\n",
    "        'subject_id': 'case:subject_id', \n",
    "        'hadm_id':'case:hadm_id', \n",
    "        'acuity': 'case:acuity', \n",
    "        'chiefcomplaint': 'case:chiefcomplaint',\n",
    "        \n",
    "        # new case attributes\n",
    "        'gender': 'case:gender',\n",
    "        'race': 'case:race',\n",
    "        }, inplace=True)"
   ]
  },
  {
   "attachments": {},
   "cell_type": "markdown",
   "metadata": {},
   "source": [
    "`pm4py` will select values in the first row of each case for case attributes. Thus, we need fill in rows with empty case attribute\n",
    "\n",
    "For example: `case:acuity`, `case:chiefcomplaint`"
   ]
  },
  {
   "cell_type": "code",
   "execution_count": null,
   "metadata": {},
   "outputs": [],
   "source": [
    "log_csv['case:acuity'] = log_csv.groupby('case:concept:name')['case:acuity'].transform(lambda v: v.ffill().bfill())\n",
    "log_csv['case:chiefcomplaint'] = log_csv.groupby('case:concept:name')['case:chiefcomplaint'].transform(lambda v: v.ffill().bfill())\n",
    "log_csv['case:gender'] = log_csv.groupby('case:concept:name')['case:gender'].transform(lambda v: v.ffill().bfill())\n",
    "log_csv['case:race'] = log_csv.groupby('case:concept:name')['case:race'].transform(lambda v: v.ffill().bfill())"
   ]
  },
  {
   "attachments": {},
   "cell_type": "markdown",
   "metadata": {},
   "source": [
    "`pm4py` has built-in fuctions for transforming the data type of timestamp in the dataframe.\n",
    "\n",
    "Function `pm4py.objects.log.util.dataframe_utils.convert_timestamp_columns_in_df`\n",
    "\n",
    "When using this function, make sure that the column name of timestamp is `timestamp`."
   ]
  },
  {
   "cell_type": "code",
   "execution_count": null,
   "metadata": {},
   "outputs": [],
   "source": [
    "log_csv = dataframe_utils.convert_timestamp_columns_in_df(log_csv)"
   ]
  },
  {
   "attachments": {},
   "cell_type": "markdown",
   "metadata": {},
   "source": [
    "### Export event log data to XES file\n",
    "\n",
    "The default export setting for exporting XES file requires using the default column name of case id `case:concept:name`. But you can use parameters to specify a different name."
   ]
  },
  {
   "cell_type": "code",
   "execution_count": null,
   "metadata": {},
   "outputs": [],
   "source": [
    "event_log = pm4py.convert_to_event_log(log_csv, stream_postprocessing=True)\n",
    "xes_file_path = \"mimicel.xes\"\n",
    "pm4py.write_xes(event_log, xes_file_path, case_id_key='case:concept:name')"
   ]
  },
  {
   "cell_type": "code",
   "execution_count": null,
   "metadata": {},
   "outputs": [],
   "source": [
    "# examples\n",
    "example_csv = log_csv.head(100000)\n",
    "example_event_log = pm4py.convert_to_event_log(example_csv, stream_postprocessing=True) \n",
    "pm4py.write_xes(example_event_log, 'mimicel_example.xes', case_id_key='case:concept:name')\n"
   ]
  }
 ],
 "metadata": {
  "kernelspec": {
   "display_name": "Python 3 (ipykernel)",
   "language": "python",
   "name": "python3"
  },
  "language_info": {
   "codemirror_mode": {
    "name": "ipython",
    "version": 3
   },
   "file_extension": ".py",
   "mimetype": "text/x-python",
   "name": "python",
   "nbconvert_exporter": "python",
   "pygments_lexer": "ipython3",
   "version": "3.9.7"
  }
 },
 "nbformat": 4,
 "nbformat_minor": 1
}
