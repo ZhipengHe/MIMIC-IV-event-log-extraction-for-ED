{
 "cells": [
  {
   "cell_type": "markdown",
   "metadata": {},
   "source": [
    "## MIMIC-IV EventLog Curation\n",
    "1. import CSV into pandas dataframe\n",
    "2. convert processed dataframe to event log structure by `pm4py`\n",
    "3. export event log to XES file by `pm4py`"
   ]
  },
  {
   "cell_type": "code",
   "execution_count": 1,
   "metadata": {
    "collapsed": true
   },
   "outputs": [],
   "source": [
    "# import required library\n",
    "import os\n",
    "import pm4py\n",
    "import numpy as np\n",
    "import pandas as pd\n",
    "from pm4py.objects.log.util import dataframe_utils\n",
    "from pm4py.objects.conversion.log import converter as log_converter\n",
    "from pm4py.objects.log.exporter.xes import exporter as xes_exporter"
   ]
  },
  {
   "cell_type": "markdown",
   "metadata": {},
   "source": [
    "### Import CSV log into pandas dataframe\n",
    "Please change the path for your CSV file below."
   ]
  },
  {
   "cell_type": "code",
   "execution_count": 2,
   "metadata": {
    "pycharm": {
     "name": "#%%\n"
    }
   },
   "outputs": [],
   "source": [
    "csv_file_path = \"your_file_path_here.csv\"\n",
    "log_csv = pd.read_csv(file_path, sep='|')"
   ]
  },
  {
   "cell_type": "markdown",
   "metadata": {
    "pycharm": {
     "name": "#%% md\n"
    }
   },
   "source": [
    "### Process the dataframe and convert it to `pm4py` event log structure\n",
    "The default attributes in `pm4py` package:\n",
    "\n",
    "- Case ID --> `case:concept:name`\n",
    "- Timestamps -->  `timestamps`\n",
    "- Case attributes -->  start with `case:`"
   ]
  },
  {
   "cell_type": "code",
   "execution_count": 3,
   "metadata": {
    "pycharm": {
     "name": "#%%\n"
    }
   },
   "outputs": [],
   "source": [
    "# rename some attributes name\n",
    "log_csv.rename(columns=\n",
    "    {\n",
    "        'stay_id':'case:concept:name',\n",
    "        'timestamps':'timestamp', \n",
    "        'subject_id': 'case:subject_id', \n",
    "        'hadm_id':'case:hadm_id', \n",
    "        'anchor_year':'case:anchor_year', \n",
    "        'anchor_year_group': 'case:anchor_year_group', \n",
    "        'anchor_age': 'case:anchor_age', \n",
    "        'acuity': 'case:acuity', \n",
    "        'chiefcomplaint': 'case:chiefcomplaint',\n",
    "        'gender':'case:gender'}, inplace=True)"
   ]
  },
  {
   "cell_type": "markdown",
   "metadata": {
    "pycharm": {
     "name": "#%% md\n"
    }
   },
   "source": [
    "`pm4py` will select values in the first row of each case for case attributes. Thus, we need fill in rows with empty case attribute\n",
    "\n",
    "For example: `case:anchor_age`, `case:anchor_year_group`, `case:anchor_year`, `case:gender`, `case:acuity`, `case:chiefcomplaint`"
   ]
  },
  {
   "cell_type": "code",
   "execution_count": 4,
   "metadata": {
    "pycharm": {
     "name": "#%%\n"
    }
   },
   "outputs": [],
   "source": [
    "log_csv['case:anchor_year'] = log_csv.groupby('case:concept:name')['case:anchor_year'].transform(lambda v: v.ffill().bfill())\n",
    "log_csv['case:anchor_age'] = log_csv.groupby('case:concept:name')['case:anchor_age'].transform(lambda v: v.ffill().bfill())\n",
    "log_csv['case:anchor_year_group'] = log_csv.groupby('case:concept:name')['case:anchor_year_group'].transform(lambda v: v.ffill().bfill())\n",
    "log_csv['case:gender'] = log_csv.groupby('case:concept:name')['case:gender'].transform(lambda v: v.ffill().bfill())\n",
    "log_csv['case:acuity'] = log_csv.groupby('case:concept:name')['case:acuity'].transform(lambda v: v.ffill().bfill())\n",
    "log_csv['case:chiefcomplaint'] = log_csv.groupby('case:concept:name')['case:chiefcomplaint'].transform(lambda v: v.ffill().bfill())"
   ]
  },
  {
   "cell_type": "markdown",
   "metadata": {},
   "source": [
    "`pm4py` has built-in fuctions for transforming the data type of timestamp in the dataframe.\n",
    "\n",
    "Function `pm4py.objects.log.util.dataframe_utils.convert_timestamp_columns_in_df`\n",
    "\n",
    "When using this function, make sure that the column name of timestamp is `timestamp`."
   ]
  },
  {
   "cell_type": "code",
   "execution_count": 5,
   "metadata": {
    "pycharm": {
     "name": "#%%\n"
    }
   },
   "outputs": [],
   "source": [
    "log_csv = dataframe_utils.convert_timestamp_columns_in_df(log_csv)\n",
    "log_csv = log_csv.sort_values('timestamp')"
   ]
  },
  {
   "cell_type": "code",
   "execution_count": 6,
   "metadata": {
    "pycharm": {
     "name": "#%%\n"
    }
   },
   "outputs": [
    {
     "data": {
      "text/html": [
       "<div>\n",
       "<style scoped>\n",
       "    .dataframe tbody tr th:only-of-type {\n",
       "        vertical-align: middle;\n",
       "    }\n",
       "\n",
       "    .dataframe tbody tr th {\n",
       "        vertical-align: top;\n",
       "    }\n",
       "\n",
       "    .dataframe thead th {\n",
       "        text-align: right;\n",
       "    }\n",
       "</style>\n",
       "<table border=\"1\" class=\"dataframe\">\n",
       "  <thead>\n",
       "    <tr style=\"text-align: right;\">\n",
       "      <th></th>\n",
       "      <th>case:concept:name</th>\n",
       "      <th>case:subject_id</th>\n",
       "      <th>case:hadm_id</th>\n",
       "      <th>timestamp</th>\n",
       "      <th>activity</th>\n",
       "      <th>case:gender</th>\n",
       "      <th>case:anchor_age</th>\n",
       "      <th>case:anchor_year</th>\n",
       "      <th>case:anchor_year_group</th>\n",
       "      <th>seq_num</th>\n",
       "      <th>...</th>\n",
       "      <th>eventtype</th>\n",
       "      <th>careunit</th>\n",
       "      <th>admission_type</th>\n",
       "      <th>admission_location</th>\n",
       "      <th>discharge_location</th>\n",
       "      <th>insurance</th>\n",
       "      <th>language</th>\n",
       "      <th>marital_status</th>\n",
       "      <th>ethnicity</th>\n",
       "      <th>hospital_expire_flag</th>\n",
       "    </tr>\n",
       "  </thead>\n",
       "  <tbody>\n",
       "    <tr>\n",
       "      <th>5029207</th>\n",
       "      <td>35341790</td>\n",
       "      <td>13238787</td>\n",
       "      <td>NaN</td>\n",
       "      <td>2110-01-11 01:45:00+00:00</td>\n",
       "      <td>Enter the ED</td>\n",
       "      <td>M</td>\n",
       "      <td>37.0</td>\n",
       "      <td>2110.0</td>\n",
       "      <td>2014 - 2016</td>\n",
       "      <td>NaN</td>\n",
       "      <td>...</td>\n",
       "      <td>NaN</td>\n",
       "      <td>NaN</td>\n",
       "      <td>NaN</td>\n",
       "      <td>NaN</td>\n",
       "      <td>NaN</td>\n",
       "      <td>NaN</td>\n",
       "      <td>NaN</td>\n",
       "      <td>NaN</td>\n",
       "      <td>NaN</td>\n",
       "      <td>NaN</td>\n",
       "    </tr>\n",
       "    <tr>\n",
       "      <th>5029208</th>\n",
       "      <td>35341790</td>\n",
       "      <td>13238787</td>\n",
       "      <td>NaN</td>\n",
       "      <td>2110-01-11 01:45:01+00:00</td>\n",
       "      <td>Triage in the ED</td>\n",
       "      <td>M</td>\n",
       "      <td>37.0</td>\n",
       "      <td>2110.0</td>\n",
       "      <td>2014 - 2016</td>\n",
       "      <td>NaN</td>\n",
       "      <td>...</td>\n",
       "      <td>NaN</td>\n",
       "      <td>NaN</td>\n",
       "      <td>NaN</td>\n",
       "      <td>NaN</td>\n",
       "      <td>NaN</td>\n",
       "      <td>NaN</td>\n",
       "      <td>NaN</td>\n",
       "      <td>NaN</td>\n",
       "      <td>NaN</td>\n",
       "      <td>NaN</td>\n",
       "    </tr>\n",
       "    <tr>\n",
       "      <th>5029209</th>\n",
       "      <td>35341790</td>\n",
       "      <td>13238787</td>\n",
       "      <td>NaN</td>\n",
       "      <td>2110-01-11 01:49:00+00:00</td>\n",
       "      <td>Take the routine vital signs</td>\n",
       "      <td>M</td>\n",
       "      <td>37.0</td>\n",
       "      <td>2110.0</td>\n",
       "      <td>2014 - 2016</td>\n",
       "      <td>NaN</td>\n",
       "      <td>...</td>\n",
       "      <td>NaN</td>\n",
       "      <td>NaN</td>\n",
       "      <td>NaN</td>\n",
       "      <td>NaN</td>\n",
       "      <td>NaN</td>\n",
       "      <td>NaN</td>\n",
       "      <td>NaN</td>\n",
       "      <td>NaN</td>\n",
       "      <td>NaN</td>\n",
       "      <td>NaN</td>\n",
       "    </tr>\n",
       "    <tr>\n",
       "      <th>5029210</th>\n",
       "      <td>35341790</td>\n",
       "      <td>13238787</td>\n",
       "      <td>NaN</td>\n",
       "      <td>2110-01-11 02:05:00+00:00</td>\n",
       "      <td>Discharge from the ED + diagnosis 1</td>\n",
       "      <td>M</td>\n",
       "      <td>37.0</td>\n",
       "      <td>2110.0</td>\n",
       "      <td>2014 - 2016</td>\n",
       "      <td>1.0</td>\n",
       "      <td>...</td>\n",
       "      <td>NaN</td>\n",
       "      <td>NaN</td>\n",
       "      <td>NaN</td>\n",
       "      <td>NaN</td>\n",
       "      <td>NaN</td>\n",
       "      <td>NaN</td>\n",
       "      <td>NaN</td>\n",
       "      <td>NaN</td>\n",
       "      <td>NaN</td>\n",
       "      <td>NaN</td>\n",
       "    </tr>\n",
       "    <tr>\n",
       "      <th>5029211</th>\n",
       "      <td>35341790</td>\n",
       "      <td>13238787</td>\n",
       "      <td>NaN</td>\n",
       "      <td>2110-01-11 02:05:00+00:00</td>\n",
       "      <td>Discharge from the ED + diagnosis 2</td>\n",
       "      <td>M</td>\n",
       "      <td>37.0</td>\n",
       "      <td>2110.0</td>\n",
       "      <td>2014 - 2016</td>\n",
       "      <td>2.0</td>\n",
       "      <td>...</td>\n",
       "      <td>NaN</td>\n",
       "      <td>NaN</td>\n",
       "      <td>NaN</td>\n",
       "      <td>NaN</td>\n",
       "      <td>NaN</td>\n",
       "      <td>NaN</td>\n",
       "      <td>NaN</td>\n",
       "      <td>NaN</td>\n",
       "      <td>NaN</td>\n",
       "      <td>NaN</td>\n",
       "    </tr>\n",
       "    <tr>\n",
       "      <th>...</th>\n",
       "      <td>...</td>\n",
       "      <td>...</td>\n",
       "      <td>...</td>\n",
       "      <td>...</td>\n",
       "      <td>...</td>\n",
       "      <td>...</td>\n",
       "      <td>...</td>\n",
       "      <td>...</td>\n",
       "      <td>...</td>\n",
       "      <td>...</td>\n",
       "      <td>...</td>\n",
       "      <td>...</td>\n",
       "      <td>...</td>\n",
       "      <td>...</td>\n",
       "      <td>...</td>\n",
       "      <td>...</td>\n",
       "      <td>...</td>\n",
       "      <td>...</td>\n",
       "      <td>...</td>\n",
       "      <td>...</td>\n",
       "      <td>...</td>\n",
       "    </tr>\n",
       "    <tr>\n",
       "      <th>4189264</th>\n",
       "      <td>34454487</td>\n",
       "      <td>17788558</td>\n",
       "      <td>NaN</td>\n",
       "      <td>2110-01-13 12:44:00+00:00</td>\n",
       "      <td>Medicine dispensations</td>\n",
       "      <td>M</td>\n",
       "      <td>66.0</td>\n",
       "      <td>2110.0</td>\n",
       "      <td>2011 - 2013</td>\n",
       "      <td>NaN</td>\n",
       "      <td>...</td>\n",
       "      <td>NaN</td>\n",
       "      <td>NaN</td>\n",
       "      <td>NaN</td>\n",
       "      <td>NaN</td>\n",
       "      <td>NaN</td>\n",
       "      <td>NaN</td>\n",
       "      <td>NaN</td>\n",
       "      <td>NaN</td>\n",
       "      <td>NaN</td>\n",
       "      <td>NaN</td>\n",
       "    </tr>\n",
       "    <tr>\n",
       "      <th>4189267</th>\n",
       "      <td>34454487</td>\n",
       "      <td>17788558</td>\n",
       "      <td>NaN</td>\n",
       "      <td>2110-01-13 12:45:00+00:00</td>\n",
       "      <td>Take the routine vital signs</td>\n",
       "      <td>M</td>\n",
       "      <td>66.0</td>\n",
       "      <td>2110.0</td>\n",
       "      <td>2011 - 2013</td>\n",
       "      <td>NaN</td>\n",
       "      <td>...</td>\n",
       "      <td>NaN</td>\n",
       "      <td>NaN</td>\n",
       "      <td>NaN</td>\n",
       "      <td>NaN</td>\n",
       "      <td>NaN</td>\n",
       "      <td>NaN</td>\n",
       "      <td>NaN</td>\n",
       "      <td>NaN</td>\n",
       "      <td>NaN</td>\n",
       "      <td>NaN</td>\n",
       "    </tr>\n",
       "    <tr>\n",
       "      <th>4189266</th>\n",
       "      <td>34454487</td>\n",
       "      <td>17788558</td>\n",
       "      <td>NaN</td>\n",
       "      <td>2110-01-13 12:45:00+00:00</td>\n",
       "      <td>Medicine dispensations</td>\n",
       "      <td>M</td>\n",
       "      <td>66.0</td>\n",
       "      <td>2110.0</td>\n",
       "      <td>2011 - 2013</td>\n",
       "      <td>NaN</td>\n",
       "      <td>...</td>\n",
       "      <td>NaN</td>\n",
       "      <td>NaN</td>\n",
       "      <td>NaN</td>\n",
       "      <td>NaN</td>\n",
       "      <td>NaN</td>\n",
       "      <td>NaN</td>\n",
       "      <td>NaN</td>\n",
       "      <td>NaN</td>\n",
       "      <td>NaN</td>\n",
       "      <td>NaN</td>\n",
       "    </tr>\n",
       "    <tr>\n",
       "      <th>4189265</th>\n",
       "      <td>34454487</td>\n",
       "      <td>17788558</td>\n",
       "      <td>NaN</td>\n",
       "      <td>2110-01-13 12:45:00+00:00</td>\n",
       "      <td>Medicine dispensations</td>\n",
       "      <td>M</td>\n",
       "      <td>66.0</td>\n",
       "      <td>2110.0</td>\n",
       "      <td>2011 - 2013</td>\n",
       "      <td>NaN</td>\n",
       "      <td>...</td>\n",
       "      <td>NaN</td>\n",
       "      <td>NaN</td>\n",
       "      <td>NaN</td>\n",
       "      <td>NaN</td>\n",
       "      <td>NaN</td>\n",
       "      <td>NaN</td>\n",
       "      <td>NaN</td>\n",
       "      <td>NaN</td>\n",
       "      <td>NaN</td>\n",
       "      <td>NaN</td>\n",
       "    </tr>\n",
       "    <tr>\n",
       "      <th>4189268</th>\n",
       "      <td>34454487</td>\n",
       "      <td>17788558</td>\n",
       "      <td>NaN</td>\n",
       "      <td>2110-01-13 12:50:00+00:00</td>\n",
       "      <td>Discharge from the ED + diagnosis 1</td>\n",
       "      <td>M</td>\n",
       "      <td>66.0</td>\n",
       "      <td>2110.0</td>\n",
       "      <td>2011 - 2013</td>\n",
       "      <td>1.0</td>\n",
       "      <td>...</td>\n",
       "      <td>NaN</td>\n",
       "      <td>NaN</td>\n",
       "      <td>NaN</td>\n",
       "      <td>NaN</td>\n",
       "      <td>NaN</td>\n",
       "      <td>NaN</td>\n",
       "      <td>NaN</td>\n",
       "      <td>NaN</td>\n",
       "      <td>NaN</td>\n",
       "      <td>NaN</td>\n",
       "    </tr>\n",
       "  </tbody>\n",
       "</table>\n",
       "<p>200 rows × 42 columns</p>\n",
       "</div>"
      ],
      "text/plain": [
       "         case:concept:name  case:subject_id  case:hadm_id  \\\n",
       "5029207           35341790         13238787           NaN   \n",
       "5029208           35341790         13238787           NaN   \n",
       "5029209           35341790         13238787           NaN   \n",
       "5029210           35341790         13238787           NaN   \n",
       "5029211           35341790         13238787           NaN   \n",
       "...                    ...              ...           ...   \n",
       "4189264           34454487         17788558           NaN   \n",
       "4189267           34454487         17788558           NaN   \n",
       "4189266           34454487         17788558           NaN   \n",
       "4189265           34454487         17788558           NaN   \n",
       "4189268           34454487         17788558           NaN   \n",
       "\n",
       "                        timestamp                             activity  \\\n",
       "5029207 2110-01-11 01:45:00+00:00                         Enter the ED   \n",
       "5029208 2110-01-11 01:45:01+00:00                     Triage in the ED   \n",
       "5029209 2110-01-11 01:49:00+00:00         Take the routine vital signs   \n",
       "5029210 2110-01-11 02:05:00+00:00  Discharge from the ED + diagnosis 1   \n",
       "5029211 2110-01-11 02:05:00+00:00  Discharge from the ED + diagnosis 2   \n",
       "...                           ...                                  ...   \n",
       "4189264 2110-01-13 12:44:00+00:00               Medicine dispensations   \n",
       "4189267 2110-01-13 12:45:00+00:00         Take the routine vital signs   \n",
       "4189266 2110-01-13 12:45:00+00:00               Medicine dispensations   \n",
       "4189265 2110-01-13 12:45:00+00:00               Medicine dispensations   \n",
       "4189268 2110-01-13 12:50:00+00:00  Discharge from the ED + diagnosis 1   \n",
       "\n",
       "        case:gender  case:anchor_age  case:anchor_year case:anchor_year_group  \\\n",
       "5029207           M             37.0            2110.0            2014 - 2016   \n",
       "5029208           M             37.0            2110.0            2014 - 2016   \n",
       "5029209           M             37.0            2110.0            2014 - 2016   \n",
       "5029210           M             37.0            2110.0            2014 - 2016   \n",
       "5029211           M             37.0            2110.0            2014 - 2016   \n",
       "...             ...              ...               ...                    ...   \n",
       "4189264           M             66.0            2110.0            2011 - 2013   \n",
       "4189267           M             66.0            2110.0            2011 - 2013   \n",
       "4189266           M             66.0            2110.0            2011 - 2013   \n",
       "4189265           M             66.0            2110.0            2011 - 2013   \n",
       "4189268           M             66.0            2110.0            2011 - 2013   \n",
       "\n",
       "         seq_num  ... eventtype  careunit admission_type  admission_location  \\\n",
       "5029207      NaN  ...       NaN       NaN            NaN                 NaN   \n",
       "5029208      NaN  ...       NaN       NaN            NaN                 NaN   \n",
       "5029209      NaN  ...       NaN       NaN            NaN                 NaN   \n",
       "5029210      1.0  ...       NaN       NaN            NaN                 NaN   \n",
       "5029211      2.0  ...       NaN       NaN            NaN                 NaN   \n",
       "...          ...  ...       ...       ...            ...                 ...   \n",
       "4189264      NaN  ...       NaN       NaN            NaN                 NaN   \n",
       "4189267      NaN  ...       NaN       NaN            NaN                 NaN   \n",
       "4189266      NaN  ...       NaN       NaN            NaN                 NaN   \n",
       "4189265      NaN  ...       NaN       NaN            NaN                 NaN   \n",
       "4189268      1.0  ...       NaN       NaN            NaN                 NaN   \n",
       "\n",
       "         discharge_location  insurance  language  marital_status  ethnicity  \\\n",
       "5029207                 NaN        NaN       NaN             NaN        NaN   \n",
       "5029208                 NaN        NaN       NaN             NaN        NaN   \n",
       "5029209                 NaN        NaN       NaN             NaN        NaN   \n",
       "5029210                 NaN        NaN       NaN             NaN        NaN   \n",
       "5029211                 NaN        NaN       NaN             NaN        NaN   \n",
       "...                     ...        ...       ...             ...        ...   \n",
       "4189264                 NaN        NaN       NaN             NaN        NaN   \n",
       "4189267                 NaN        NaN       NaN             NaN        NaN   \n",
       "4189266                 NaN        NaN       NaN             NaN        NaN   \n",
       "4189265                 NaN        NaN       NaN             NaN        NaN   \n",
       "4189268                 NaN        NaN       NaN             NaN        NaN   \n",
       "\n",
       "        hospital_expire_flag  \n",
       "5029207                  NaN  \n",
       "5029208                  NaN  \n",
       "5029209                  NaN  \n",
       "5029210                  NaN  \n",
       "5029211                  NaN  \n",
       "...                      ...  \n",
       "4189264                  NaN  \n",
       "4189267                  NaN  \n",
       "4189266                  NaN  \n",
       "4189265                  NaN  \n",
       "4189268                  NaN  \n",
       "\n",
       "[200 rows x 42 columns]"
      ]
     },
     "execution_count": 6,
     "metadata": {},
     "output_type": "execute_result"
    }
   ],
   "source": [
    "# check the first 200 rows\n",
    "log_csv.head(200)"
   ]
  },
  {
   "cell_type": "markdown",
   "metadata": {},
   "source": [
    "### Export event log data to XES file\n",
    "\n",
    "The default export setting for exporting XES file requires using the default column name of case id `case:concept:name`. But you can use parameters to specify a different name."
   ]
  },
  {
   "cell_type": "code",
   "execution_count": 7,
   "metadata": {
    "pycharm": {
     "name": "#%%\n"
    }
   },
   "outputs": [],
   "source": [
    "# # You can set parameters for using different column name of case id\n",
    "# parameters = {log_converter.Variants.TO_EVENT_LOG.value.Parameters.CASE_ID_KEY: 'case:stay_id'}\n",
    "# event_log = log_converter.apply(log_csv, parameters=parameters, variant=log_converter.Variants.TO_EVENT_LOG)\n",
    "\n",
    "# default usage\n",
    "event_log = log_converter.apply(log_csv, variant=log_converter.Variants.TO_EVENT_LOG)"
   ]
  },
  {
   "cell_type": "code",
   "execution_count": 8,
   "metadata": {
    "pycharm": {
     "name": "#%%\n"
    }
   },
   "outputs": [
    {
     "data": {
      "application/vnd.jupyter.widget-view+json": {
       "model_id": "6a067dad6e6e4add9fa62cd1f69ae60b",
       "version_major": 2,
       "version_minor": 0
      },
      "text/plain": [
       "exporting log, completed traces ::   0%|          | 0/448972 [00:00<?, ?it/s]"
      ]
     },
     "metadata": {},
     "output_type": "display_data"
    }
   ],
   "source": [
    "xes_file_path = \"your_file_path_here.xes\"\n",
    "xes_exporter.apply(event_log, xes_file_path)"
   ]
  },
  {
   "cell_type": "code",
   "execution_count": 8,
   "metadata": {
    "pycharm": {
     "name": "#%%\n"
    }
   },
   "outputs": [],
   "source": []
  }
 ],
 "metadata": {
  "kernelspec": {
   "display_name": "Python 3 (ipykernel)",
   "language": "python",
   "name": "python3"
  },
  "language_info": {
   "codemirror_mode": {
    "name": "ipython",
    "version": 3
   },
   "file_extension": ".py",
   "mimetype": "text/x-python",
   "name": "python",
   "nbconvert_exporter": "python",
   "pygments_lexer": "ipython3",
   "version": "3.9.10"
  }
 },
 "nbformat": 4,
 "nbformat_minor": 1
}
