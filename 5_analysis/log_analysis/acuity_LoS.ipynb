{
 "cells": [
  {
   "cell_type": "markdown",
   "id": "488f1b25",
   "metadata": {},
   "source": [
    "## Import necessary libraries"
   ]
  },
  {
   "cell_type": "code",
   "execution_count": 2,
   "id": "3a04b8f9",
   "metadata": {},
   "outputs": [
    {
     "data": {
      "text/html": [
       "        <script type=\"text/javascript\">\n",
       "        window.PlotlyConfig = {MathJaxConfig: 'local'};\n",
       "        if (window.MathJax && window.MathJax.Hub && window.MathJax.Hub.Config) {window.MathJax.Hub.Config({SVG: {font: \"STIX-Web\"}});}\n",
       "        if (typeof require !== 'undefined') {\n",
       "        require.undef(\"plotly\");\n",
       "        requirejs.config({\n",
       "            paths: {\n",
       "                'plotly': ['https://cdn.plot.ly/plotly-2.24.1.min']\n",
       "            }\n",
       "        });\n",
       "        require(['plotly'], function(Plotly) {\n",
       "            window._Plotly = Plotly;\n",
       "        });\n",
       "        }\n",
       "        </script>\n",
       "        "
      ]
     },
     "metadata": {},
     "output_type": "display_data"
    }
   ],
   "source": [
    "# Visual Python: Data Analysis > Import\n",
    "import numpy as np\n",
    "import pandas as pd\n",
    "import matplotlib.pyplot as plt\n",
    "%matplotlib inline\n",
    "import seaborn as sns"
   ]
  },
  {
   "cell_type": "markdown",
   "id": "6e9dab98",
   "metadata": {},
   "source": [
    "## Read filtered mimicel event log"
   ]
  },
  {
   "cell_type": "code",
   "execution_count": 3,
   "id": "4e3e1ba4",
   "metadata": {},
   "outputs": [
    {
     "data": {
      "text/html": [
       "<div>\n",
       "<style scoped>\n",
       "    .dataframe tbody tr th:only-of-type {\n",
       "        vertical-align: middle;\n",
       "    }\n",
       "\n",
       "    .dataframe tbody tr th {\n",
       "        vertical-align: top;\n",
       "    }\n",
       "\n",
       "    .dataframe thead th {\n",
       "        text-align: right;\n",
       "    }\n",
       "</style>\n",
       "<table border=\"1\" class=\"dataframe\">\n",
       "  <thead>\n",
       "    <tr style=\"text-align: right;\">\n",
       "      <th></th>\n",
       "      <th>stay_id</th>\n",
       "      <th>subject_id</th>\n",
       "      <th>hadm_id</th>\n",
       "      <th>timestamps</th>\n",
       "      <th>activity</th>\n",
       "      <th>gender</th>\n",
       "      <th>race</th>\n",
       "      <th>arrival_transport</th>\n",
       "      <th>disposition</th>\n",
       "      <th>seq_num</th>\n",
       "      <th>...</th>\n",
       "      <th>rhythm</th>\n",
       "      <th>name</th>\n",
       "      <th>gsn</th>\n",
       "      <th>ndc</th>\n",
       "      <th>etc_rn</th>\n",
       "      <th>etccode</th>\n",
       "      <th>etcdescription</th>\n",
       "      <th>med_rn</th>\n",
       "      <th>gsn_rn</th>\n",
       "      <th>los</th>\n",
       "    </tr>\n",
       "  </thead>\n",
       "  <tbody>\n",
       "    <tr>\n",
       "      <th>0</th>\n",
       "      <td>30000012</td>\n",
       "      <td>11714491</td>\n",
       "      <td>21562392.0</td>\n",
       "      <td>2126-02-14 20:22:00</td>\n",
       "      <td>Enter the ED</td>\n",
       "      <td>F</td>\n",
       "      <td>WHITE</td>\n",
       "      <td>AMBULANCE</td>\n",
       "      <td>NaN</td>\n",
       "      <td>NaN</td>\n",
       "      <td>...</td>\n",
       "      <td>NaN</td>\n",
       "      <td>NaN</td>\n",
       "      <td>NaN</td>\n",
       "      <td>NaN</td>\n",
       "      <td>NaN</td>\n",
       "      <td>NaN</td>\n",
       "      <td>NaN</td>\n",
       "      <td>NaN</td>\n",
       "      <td>NaN</td>\n",
       "      <td>NaN</td>\n",
       "    </tr>\n",
       "    <tr>\n",
       "      <th>1</th>\n",
       "      <td>30000012</td>\n",
       "      <td>11714491</td>\n",
       "      <td>21562392.0</td>\n",
       "      <td>2126-02-14 20:22:01</td>\n",
       "      <td>Triage in the ED</td>\n",
       "      <td>NaN</td>\n",
       "      <td>NaN</td>\n",
       "      <td>NaN</td>\n",
       "      <td>NaN</td>\n",
       "      <td>NaN</td>\n",
       "      <td>...</td>\n",
       "      <td>NaN</td>\n",
       "      <td>NaN</td>\n",
       "      <td>NaN</td>\n",
       "      <td>NaN</td>\n",
       "      <td>NaN</td>\n",
       "      <td>NaN</td>\n",
       "      <td>NaN</td>\n",
       "      <td>NaN</td>\n",
       "      <td>NaN</td>\n",
       "      <td>NaN</td>\n",
       "    </tr>\n",
       "    <tr>\n",
       "      <th>2</th>\n",
       "      <td>30000012</td>\n",
       "      <td>11714491</td>\n",
       "      <td>21562392.0</td>\n",
       "      <td>2126-02-14 22:21:00</td>\n",
       "      <td>Medicine reconciliation</td>\n",
       "      <td>NaN</td>\n",
       "      <td>NaN</td>\n",
       "      <td>NaN</td>\n",
       "      <td>NaN</td>\n",
       "      <td>NaN</td>\n",
       "      <td>...</td>\n",
       "      <td>NaN</td>\n",
       "      <td>spironolactone</td>\n",
       "      <td>6818.0</td>\n",
       "      <td>1.672902e+10</td>\n",
       "      <td>2.0</td>\n",
       "      <td>6043.0</td>\n",
       "      <td>Aldosterone Receptor Antagonists</td>\n",
       "      <td>NaN</td>\n",
       "      <td>NaN</td>\n",
       "      <td>NaN</td>\n",
       "    </tr>\n",
       "    <tr>\n",
       "      <th>3</th>\n",
       "      <td>30000012</td>\n",
       "      <td>11714491</td>\n",
       "      <td>21562392.0</td>\n",
       "      <td>2126-02-14 22:21:00</td>\n",
       "      <td>Medicine reconciliation</td>\n",
       "      <td>NaN</td>\n",
       "      <td>NaN</td>\n",
       "      <td>NaN</td>\n",
       "      <td>NaN</td>\n",
       "      <td>NaN</td>\n",
       "      <td>...</td>\n",
       "      <td>NaN</td>\n",
       "      <td>spironolactone</td>\n",
       "      <td>6818.0</td>\n",
       "      <td>1.672902e+10</td>\n",
       "      <td>1.0</td>\n",
       "      <td>5658.0</td>\n",
       "      <td>Diuretic - Aldosterone Receptor Antagonist, No...</td>\n",
       "      <td>NaN</td>\n",
       "      <td>NaN</td>\n",
       "      <td>NaN</td>\n",
       "    </tr>\n",
       "    <tr>\n",
       "      <th>4</th>\n",
       "      <td>30000012</td>\n",
       "      <td>11714491</td>\n",
       "      <td>21562392.0</td>\n",
       "      <td>2126-02-14 22:21:00</td>\n",
       "      <td>Medicine reconciliation</td>\n",
       "      <td>NaN</td>\n",
       "      <td>NaN</td>\n",
       "      <td>NaN</td>\n",
       "      <td>NaN</td>\n",
       "      <td>NaN</td>\n",
       "      <td>...</td>\n",
       "      <td>NaN</td>\n",
       "      <td>rifaximin</td>\n",
       "      <td>66295.0</td>\n",
       "      <td>5.486862e+10</td>\n",
       "      <td>1.0</td>\n",
       "      <td>5844.0</td>\n",
       "      <td>Rifamycins and Related Derivative Antibiotics</td>\n",
       "      <td>NaN</td>\n",
       "      <td>NaN</td>\n",
       "      <td>NaN</td>\n",
       "    </tr>\n",
       "  </tbody>\n",
       "</table>\n",
       "<p>5 rows × 32 columns</p>\n",
       "</div>"
      ],
      "text/plain": [
       "    stay_id  subject_id     hadm_id           timestamps  \\\n",
       "0  30000012    11714491  21562392.0  2126-02-14 20:22:00   \n",
       "1  30000012    11714491  21562392.0  2126-02-14 20:22:01   \n",
       "2  30000012    11714491  21562392.0  2126-02-14 22:21:00   \n",
       "3  30000012    11714491  21562392.0  2126-02-14 22:21:00   \n",
       "4  30000012    11714491  21562392.0  2126-02-14 22:21:00   \n",
       "\n",
       "                  activity gender   race arrival_transport disposition  \\\n",
       "0             Enter the ED      F  WHITE         AMBULANCE         NaN   \n",
       "1         Triage in the ED    NaN    NaN               NaN         NaN   \n",
       "2  Medicine reconciliation    NaN    NaN               NaN         NaN   \n",
       "3  Medicine reconciliation    NaN    NaN               NaN         NaN   \n",
       "4  Medicine reconciliation    NaN    NaN               NaN         NaN   \n",
       "\n",
       "   seq_num  ... rhythm            name      gsn           ndc  etc_rn  \\\n",
       "0      NaN  ...    NaN             NaN      NaN           NaN     NaN   \n",
       "1      NaN  ...    NaN             NaN      NaN           NaN     NaN   \n",
       "2      NaN  ...    NaN  spironolactone   6818.0  1.672902e+10     2.0   \n",
       "3      NaN  ...    NaN  spironolactone   6818.0  1.672902e+10     1.0   \n",
       "4      NaN  ...    NaN       rifaximin  66295.0  5.486862e+10     1.0   \n",
       "\n",
       "   etccode                                     etcdescription  med_rn  gsn_rn  \\\n",
       "0      NaN                                                NaN     NaN     NaN   \n",
       "1      NaN                                                NaN     NaN     NaN   \n",
       "2   6043.0                   Aldosterone Receptor Antagonists     NaN     NaN   \n",
       "3   5658.0  Diuretic - Aldosterone Receptor Antagonist, No...     NaN     NaN   \n",
       "4   5844.0      Rifamycins and Related Derivative Antibiotics     NaN     NaN   \n",
       "\n",
       "  los  \n",
       "0 NaN  \n",
       "1 NaN  \n",
       "2 NaN  \n",
       "3 NaN  \n",
       "4 NaN  \n",
       "\n",
       "[5 rows x 32 columns]"
      ]
     },
     "execution_count": 3,
     "metadata": {},
     "output_type": "execute_result"
    }
   ],
   "source": [
    "# please ensure you have filered_mimicel.csv in the same directory as this script\n",
    "# dataset is not provided in this repository, please run the provided SQL script to generate the dataset\n",
    "log = pd.read_csv('./filtered_mimicel.csv')\n",
    "\n",
    "log.head()"
   ]
  },
  {
   "cell_type": "code",
   "execution_count": 4,
   "id": "15535a02",
   "metadata": {},
   "outputs": [
    {
     "name": "stdout",
     "output_type": "stream",
     "text": [
      "The shape of the dataset is: (7488243, 32)\n"
     ]
    }
   ],
   "source": [
    "print(f\"The shape of the dataset is: {log.shape}\")"
   ]
  },
  {
   "cell_type": "code",
   "execution_count": 6,
   "id": "043678a3",
   "metadata": {},
   "outputs": [
    {
     "name": "stdout",
     "output_type": "stream",
     "text": [
      "The shape of the dataset is: (425028, 7)\n"
     ]
    }
   ],
   "source": [
    "# please ensure you have c;eaned_mimicel_static_attributes.csv in the same directory as this script\n",
    "# dataset is not provided in this repository, please run the provided SQL script to generate the dataset\n",
    "log_static = pd.read_csv('./cleaned_mimicel_static_attributes.csv')\n",
    "print(f\"The shape of the dataset is: {log_static.shape}\")"
   ]
  },
  {
   "cell_type": "code",
   "execution_count": 7,
   "id": "448c6ac1",
   "metadata": {},
   "outputs": [
    {
     "data": {
      "text/html": [
       "<div>\n",
       "<style scoped>\n",
       "    .dataframe tbody tr th:only-of-type {\n",
       "        vertical-align: middle;\n",
       "    }\n",
       "\n",
       "    .dataframe tbody tr th {\n",
       "        vertical-align: top;\n",
       "    }\n",
       "\n",
       "    .dataframe thead th {\n",
       "        text-align: right;\n",
       "    }\n",
       "</style>\n",
       "<table border=\"1\" class=\"dataframe\">\n",
       "  <thead>\n",
       "    <tr style=\"text-align: right;\">\n",
       "      <th></th>\n",
       "      <th>stay_id</th>\n",
       "      <th>gender</th>\n",
       "      <th>race</th>\n",
       "      <th>arrival_transport</th>\n",
       "      <th>disposition</th>\n",
       "      <th>los</th>\n",
       "      <th>acuity</th>\n",
       "    </tr>\n",
       "  </thead>\n",
       "  <tbody>\n",
       "    <tr>\n",
       "      <th>0</th>\n",
       "      <td>30000055</td>\n",
       "      <td>F</td>\n",
       "      <td>OTHER</td>\n",
       "      <td>WALK IN</td>\n",
       "      <td>HOME</td>\n",
       "      <td>249.0</td>\n",
       "      <td>3.0</td>\n",
       "    </tr>\n",
       "    <tr>\n",
       "      <th>1</th>\n",
       "      <td>30000492</td>\n",
       "      <td>F</td>\n",
       "      <td>WHITE</td>\n",
       "      <td>WALK IN</td>\n",
       "      <td>ADMITTED</td>\n",
       "      <td>239.0</td>\n",
       "      <td>3.0</td>\n",
       "    </tr>\n",
       "    <tr>\n",
       "      <th>2</th>\n",
       "      <td>30000679</td>\n",
       "      <td>M</td>\n",
       "      <td>BLACK/AFRICAN AMERICAN</td>\n",
       "      <td>WALK IN</td>\n",
       "      <td>ADMITTED</td>\n",
       "      <td>564.0</td>\n",
       "      <td>2.0</td>\n",
       "    </tr>\n",
       "    <tr>\n",
       "      <th>3</th>\n",
       "      <td>30000685</td>\n",
       "      <td>M</td>\n",
       "      <td>WHITE</td>\n",
       "      <td>WALK IN</td>\n",
       "      <td>HOME</td>\n",
       "      <td>336.0</td>\n",
       "      <td>3.0</td>\n",
       "    </tr>\n",
       "    <tr>\n",
       "      <th>4</th>\n",
       "      <td>30000936</td>\n",
       "      <td>M</td>\n",
       "      <td>WHITE</td>\n",
       "      <td>UNKNOWN</td>\n",
       "      <td>LEFT WITHOUT BEING SEEN</td>\n",
       "      <td>60.0</td>\n",
       "      <td>4.0</td>\n",
       "    </tr>\n",
       "  </tbody>\n",
       "</table>\n",
       "</div>"
      ],
      "text/plain": [
       "    stay_id gender                    race arrival_transport  \\\n",
       "0  30000055      F                   OTHER           WALK IN   \n",
       "1  30000492      F                   WHITE           WALK IN   \n",
       "2  30000679      M  BLACK/AFRICAN AMERICAN           WALK IN   \n",
       "3  30000685      M                   WHITE           WALK IN   \n",
       "4  30000936      M                   WHITE           UNKNOWN   \n",
       "\n",
       "               disposition    los  acuity  \n",
       "0                     HOME  249.0     3.0  \n",
       "1                 ADMITTED  239.0     3.0  \n",
       "2                 ADMITTED  564.0     2.0  \n",
       "3                     HOME  336.0     3.0  \n",
       "4  LEFT WITHOUT BEING SEEN   60.0     4.0  "
      ]
     },
     "execution_count": 7,
     "metadata": {},
     "output_type": "execute_result"
    }
   ],
   "source": [
    "log_static.head()"
   ]
  },
  {
   "attachments": {},
   "cell_type": "markdown",
   "id": "7da77279",
   "metadata": {},
   "source": [
    "#### acuity cohorts evaluation"
   ]
  },
  {
   "attachments": {},
   "cell_type": "markdown",
   "id": "1115c90d",
   "metadata": {},
   "source": [
    "##### acuity = 1"
   ]
  },
  {
   "cell_type": "code",
   "execution_count": 8,
   "id": "bcd72c90",
   "metadata": {},
   "outputs": [
    {
     "name": "stdout",
     "output_type": "stream",
     "text": [
      "Number of stay_ids with acuity 1: 24013\n"
     ]
    }
   ],
   "source": [
    "a1_ids = log_static.loc[log_static['acuity'] == 1]['stay_id'].tolist()\n",
    "print(f\"Number of stay_ids with acuity 1: {len(a1_ids)}\")"
   ]
  },
  {
   "cell_type": "code",
   "execution_count": 9,
   "id": "f6691b9e",
   "metadata": {},
   "outputs": [
    {
     "name": "stdout",
     "output_type": "stream",
     "text": [
      "Shape of the dataset with acuity 1: (525592, 32)\n"
     ]
    }
   ],
   "source": [
    "a1_log = log.loc[log['stay_id'].isin(a1_ids)]\n",
    "print(f\"Shape of the dataset with acuity 1: {a1_log.shape}\")"
   ]
  },
  {
   "attachments": {},
   "cell_type": "markdown",
   "id": "6510da31",
   "metadata": {},
   "source": [
    "##### acuity = 2"
   ]
  },
  {
   "cell_type": "code",
   "execution_count": 10,
   "id": "b5f93193",
   "metadata": {},
   "outputs": [
    {
     "name": "stdout",
     "output_type": "stream",
     "text": [
      "Number of stay_ids with acuity 2: 139403\n"
     ]
    }
   ],
   "source": [
    "a2_ids = log_static.loc[log_static['acuity'] == 2]['stay_id'].tolist()\n",
    "print(f\"Number of stay_ids with acuity 2: {len(a2_ids)}\")"
   ]
  },
  {
   "cell_type": "code",
   "execution_count": 11,
   "id": "8ed8e60f",
   "metadata": {},
   "outputs": [
    {
     "name": "stdout",
     "output_type": "stream",
     "text": [
      "Shape of the dataset with acuity 2: (2884474, 32)\n"
     ]
    }
   ],
   "source": [
    "a2_log = log.loc[log['stay_id'].isin(a2_ids)]\n",
    "print(f\"Shape of the dataset with acuity 2: {a2_log.shape}\")"
   ]
  },
  {
   "attachments": {},
   "cell_type": "markdown",
   "id": "1e667be2",
   "metadata": {},
   "source": [
    "##### acuity = 3"
   ]
  },
  {
   "cell_type": "code",
   "execution_count": 12,
   "id": "bf775d7f",
   "metadata": {},
   "outputs": [
    {
     "name": "stdout",
     "output_type": "stream",
     "text": [
      "Number of stay_ids with acuity 3: 225045\n"
     ]
    }
   ],
   "source": [
    "a3_ids = log_static.loc[log_static['acuity'] == 3]['stay_id'].tolist()\n",
    "print(f\"Number of stay_ids with acuity 3: {len(a3_ids)}\")"
   ]
  },
  {
   "cell_type": "code",
   "execution_count": 13,
   "id": "9e20c427",
   "metadata": {},
   "outputs": [
    {
     "name": "stdout",
     "output_type": "stream",
     "text": [
      "Shape of the dataset with acuity 3: (3685834, 32)\n"
     ]
    }
   ],
   "source": [
    "a3_log = log.loc[log['stay_id'].isin(a3_ids)]\n",
    "print(f\"Shape of the dataset with acuity 3: {a3_log.shape}\")"
   ]
  },
  {
   "attachments": {},
   "cell_type": "markdown",
   "id": "58f281f4",
   "metadata": {},
   "source": [
    "##### acuity = 4"
   ]
  },
  {
   "cell_type": "code",
   "execution_count": 14,
   "id": "7ca4f3dc",
   "metadata": {},
   "outputs": [
    {
     "name": "stdout",
     "output_type": "stream",
     "text": [
      "Number of stay_ids with acuity 4: 28496\n"
     ]
    }
   ],
   "source": [
    "a4_ids = log_static.loc[log_static['acuity'] == 4]['stay_id'].tolist()\n",
    "print(f\"Number of stay_ids with acuity 4: {len(a4_ids)}\")"
   ]
  },
  {
   "cell_type": "code",
   "execution_count": 15,
   "id": "112312d8",
   "metadata": {},
   "outputs": [
    {
     "name": "stdout",
     "output_type": "stream",
     "text": [
      "Shape of the dataset with acuity 4: (284767, 32)\n"
     ]
    }
   ],
   "source": [
    "a4_log = log.loc[log['stay_id'].isin(a4_ids)]\n",
    "print(f\"Shape of the dataset with acuity 4: {a4_log.shape}\")"
   ]
  },
  {
   "attachments": {},
   "cell_type": "markdown",
   "id": "6268b627",
   "metadata": {},
   "source": [
    "##### acuity = 5"
   ]
  },
  {
   "cell_type": "code",
   "execution_count": 16,
   "id": "53956ece",
   "metadata": {},
   "outputs": [
    {
     "name": "stdout",
     "output_type": "stream",
     "text": [
      "Number of stay_ids with acuity 5: 1095\n"
     ]
    }
   ],
   "source": [
    "a5_ids = log_static.loc[log_static['acuity'] == 5]['stay_id'].tolist()\n",
    "print(f\"Number of stay_ids with acuity 5: {len(a5_ids)}\")"
   ]
  },
  {
   "cell_type": "code",
   "execution_count": 17,
   "id": "6dd49936",
   "metadata": {},
   "outputs": [
    {
     "name": "stdout",
     "output_type": "stream",
     "text": [
      "Shape of the dataset with acuity 5: (8747, 32)\n"
     ]
    }
   ],
   "source": [
    "a5_log = log.loc[log['stay_id'].isin(a5_ids)]\n",
    "print(f\"Shape of the dataset with acuity 5: {a5_log.shape}\")"
   ]
  },
  {
   "attachments": {},
   "cell_type": "markdown",
   "id": "e9fea566",
   "metadata": {},
   "source": [
    "#### LoS distribution"
   ]
  },
  {
   "cell_type": "code",
   "execution_count": 18,
   "id": "e8452bee",
   "metadata": {},
   "outputs": [],
   "source": [
    "# export the datasets\n",
    "log_static.to_csv('./log_static.csv', index= False)"
   ]
  },
  {
   "cell_type": "code",
   "execution_count": 19,
   "id": "6c5ce083",
   "metadata": {},
   "outputs": [
    {
     "data": {
      "text/plain": [
       "count    425028.000000\n",
       "mean        431.826132\n",
       "std         449.737130\n",
       "min           1.000000\n",
       "25%         212.000000\n",
       "50%         328.000000\n",
       "75%         500.000000\n",
       "max      118154.000000\n",
       "Name: los, dtype: float64"
      ]
     },
     "execution_count": 19,
     "metadata": {},
     "output_type": "execute_result"
    }
   ],
   "source": [
    "log_static['los'].describe()"
   ]
  },
  {
   "cell_type": "code",
   "execution_count": 20,
   "id": "bedcdefe",
   "metadata": {},
   "outputs": [
    {
     "data": {
      "text/plain": [
       "(0.0, 2000.0)"
      ]
     },
     "execution_count": 20,
     "metadata": {},
     "output_type": "execute_result"
    },
    {
     "data": {
      "image/png": "[encoded data removed]",
      "text/plain": [
       "<Figure size 640x480 with 1 Axes>"
      ]
     },
     "metadata": {},
     "output_type": "display_data"
    }
   ],
   "source": [
    "hist = sns.histplot(data=log_static, x = 'los', color = 'slateblue')\n",
    "plt.axvline(x=500, color='r', linestyle='--')\n",
    "\n",
    "long_los = log_static[log_static['los'] > 500]\n",
    "short_los = log_static[log_static['los'] <= 500]\n",
    "percent_long = round(100 * len(long_los) / len(log_static), 2)\n",
    "percent_short = round(100 * len(short_los) / len(log_static), 2)\n",
    "\n",
    "plt.text(1000, 1000, f\"{percent_long}% cases\", rotation=0)\n",
    "plt.text(65, 1000, f\"{percent_short}% cases\", rotation=0)\n",
    "plt.title(\"Distribution of LoS\")\n",
    "\n",
    "plt.xlim(0, 2000)"
   ]
  },
  {
   "cell_type": "code",
   "execution_count": 23,
   "id": "542af015",
   "metadata": {},
   "outputs": [
    {
     "data": {
      "text/plain": [
       "241.000000     893\n",
       "260.000000     893\n",
       "226.000000     887\n",
       "284.000000     887\n",
       "277.000000     886\n",
       "              ... \n",
       "345.116667       1\n",
       "584.500000       1\n",
       "319.983333       1\n",
       "413.016667       1\n",
       "1236.833333      1\n",
       "Name: los, Length: 29831, dtype: int64"
      ]
     },
     "execution_count": 23,
     "metadata": {},
     "output_type": "execute_result"
    }
   ],
   "source": [
    "counts = [p.get_height() for p in hist.patches]\n",
    "log_static['los'].value_counts()\n"
   ]
  },
  {
   "cell_type": "code",
   "execution_count": 30,
   "id": "c4bff3e5",
   "metadata": {},
   "outputs": [],
   "source": [
    "# export the LoS and Frequency in a csv for Visualisation in external tools\n",
    "# from 0 to 2000, step is 20\n",
    "\n",
    "# Assuming 'log_static' is your DataFrame and it contains the 'los' column.\n",
    "los_freq_list = []  # Use a list to collect rows before creating the DataFrame.\n",
    "\n",
    "# Set the range and compute frequencies.\n",
    "for i in range(0, 2001, 20):\n",
    "    if i == 0:\n",
    "        freq = 0  # Initial frequency for the first interval.\n",
    "    else:\n",
    "        freq = len(log_static[(log_static['los'] > i - 20) & (log_static['los'] <= i)])\n",
    "    los_freq_list.append({'LoS': i, 'Frequency': freq})\n",
    "\n",
    "# Convert the list of dictionaries to a DataFrame.\n",
    "los_freq = pd.DataFrame(los_freq_list)\n",
    "\n",
    "# Save the results to a CSV file.\n",
    "los_freq.to_csv('./los_freq.csv', index=False)  # This file will be used for visualisation in flourish.studio\n",
    "\n"
   ]
  },
  {
   "attachments": {},
   "cell_type": "markdown",
   "id": "d769635e",
   "metadata": {},
   "source": [
    "#### Acuity & LoS"
   ]
  },
  {
   "cell_type": "code",
   "execution_count": 31,
   "id": "b3a4b4ad",
   "metadata": {},
   "outputs": [
    {
     "data": {
      "text/html": [
       "<div>\n",
       "<style scoped>\n",
       "    .dataframe tbody tr th:only-of-type {\n",
       "        vertical-align: middle;\n",
       "    }\n",
       "\n",
       "    .dataframe tbody tr th {\n",
       "        vertical-align: top;\n",
       "    }\n",
       "\n",
       "    .dataframe thead th {\n",
       "        text-align: right;\n",
       "    }\n",
       "</style>\n",
       "<table border=\"1\" class=\"dataframe\">\n",
       "  <thead>\n",
       "    <tr style=\"text-align: right;\">\n",
       "      <th></th>\n",
       "      <th>los</th>\n",
       "      <th>acuity</th>\n",
       "      <th>stay_id</th>\n",
       "    </tr>\n",
       "  </thead>\n",
       "  <tbody>\n",
       "    <tr>\n",
       "      <th>0</th>\n",
       "      <td>1.0</td>\n",
       "      <td>1.0</td>\n",
       "      <td>2</td>\n",
       "    </tr>\n",
       "    <tr>\n",
       "      <th>1</th>\n",
       "      <td>1.0</td>\n",
       "      <td>2.0</td>\n",
       "      <td>2</td>\n",
       "    </tr>\n",
       "    <tr>\n",
       "      <th>2</th>\n",
       "      <td>1.0</td>\n",
       "      <td>4.0</td>\n",
       "      <td>1</td>\n",
       "    </tr>\n",
       "    <tr>\n",
       "      <th>3</th>\n",
       "      <td>2.0</td>\n",
       "      <td>1.0</td>\n",
       "      <td>5</td>\n",
       "    </tr>\n",
       "    <tr>\n",
       "      <th>4</th>\n",
       "      <td>2.0</td>\n",
       "      <td>2.0</td>\n",
       "      <td>2</td>\n",
       "    </tr>\n",
       "  </tbody>\n",
       "</table>\n",
       "</div>"
      ],
      "text/plain": [
       "   los  acuity  stay_id\n",
       "0  1.0     1.0        2\n",
       "1  1.0     2.0        2\n",
       "2  1.0     4.0        1\n",
       "3  2.0     1.0        5\n",
       "4  2.0     2.0        2"
      ]
     },
     "execution_count": 31,
     "metadata": {},
     "output_type": "execute_result"
    }
   ],
   "source": [
    "df = log_static.groupby(['los','acuity'])['stay_id'].nunique().reset_index()\n",
    "df.head()"
   ]
  },
  {
   "cell_type": "markdown",
   "id": "93a7a682",
   "metadata": {},
   "source": [
    "Visualise with dot plot, x axis is LoS, y axis is acuity, color is number of patients"
   ]
  },
  {
   "cell_type": "code",
   "execution_count": 33,
   "id": "aa1bcff2",
   "metadata": {},
   "outputs": [
    {
     "data": {
      "image/png": "[encoded data removed]",
      "text/plain": [
       "<Figure size 600x400 with 1 Axes>"
      ]
     },
     "metadata": {},
     "output_type": "display_data"
    }
   ],
   "source": [
    "plt.figure(figsize=(6,4))\n",
    "x = df['los']\n",
    "y = df['acuity']\n",
    "\n",
    "\n",
    "plt.xlim(0,2500)\n",
    "plt.axhline(y= 2.5, color='gray', linestyle='--')\n",
    "plt.axvline(x=500, color='gray', linestyle='--')\n",
    "counters = [0, 0, 0, 0]\n",
    "\n",
    "\n",
    "urgent_normal= df.loc[(df['los'] <= 500) & (df['acuity'] <= 2 )]\n",
    "urgent_slow = df.loc[(df['los'] > 500) & (df['acuity'] <= 2 )]\n",
    "non_normal = df.loc[(df['los'] <= 500) & (df['acuity'] > 2)]\n",
    "non_slow = df.loc[(df['los'] > 500) & (df['acuity'] > 2)]\n",
    "\n",
    "def get_color(x, y):\n",
    "    if x <= 500 and (y <= 2):\n",
    "        counters[0] = urgent_normal['stay_id'].sum()\n",
    "        return 'green'\n",
    "    elif x > 500 and (y <= 2):\n",
    "        counters[1] = urgent_slow['stay_id'].sum()\n",
    "        return 'red'\n",
    "    elif x <= 500 and (y > 2):\n",
    "        counters[2] = non_normal['stay_id'].sum()\n",
    "        return 'blue'\n",
    "    else:\n",
    "        counters[3] = non_slow['stay_id'].sum()\n",
    "        return 'orange'\n",
    "\n",
    "# Plot the data with different colors for each area\n",
    "colors = [get_color(xi, yi) for xi, yi in zip(x, y)]\n",
    "\n",
    "sns.scatterplot(x=x, y=y, size = df['stay_id'], c=colors, marker='o')\n",
    "\n",
    "Q1_ratio = counters[0]/(counters[0]+counters[1]+counters[2]+counters[3])\n",
    "Q4_ratio = counters[1]/(counters[0]+counters[1]+counters[2]+counters[3])\n",
    "Q2_ratio = counters[2]/(counters[0]+counters[1]+counters[2]+counters[3])\n",
    "Q3_ratio = counters[3]/(counters[0]+counters[1]+counters[2]+counters[3])\n",
    "\n",
    "\n",
    "plt.text(20, 1.5, 'Q1: '+str(f\"{Q1_ratio:.2%}\"), weight=\"bold\")\n",
    "plt.text(1300, 1.5, 'Q4: '+str(f\"{Q4_ratio:.2%}\"),weight=\"bold\")\n",
    "plt.text(20, 4, 'Q2: '+str(f\"{Q2_ratio:.2%}\"),weight=\"bold\")\n",
    "plt.text(1300, 4, 'Q3: '+str(f\"{Q3_ratio:.2%}\"),weight=\"bold\")\n",
    "\n",
    "\n",
    "plt.yticks([1.55,4.02],['More Critical', 'Less Critical'])\n",
    "plt.xticks([248,1498],['Normal','Long'])\n",
    "plt.title(\"Distribution of ED visits in accordance with LoS and acuity levels\")\n",
    "# Move the legend to the side\n",
    "plt.legend(loc='center left', bbox_to_anchor=(1, 0.5))\n",
    "# plt.legend()\n",
    "\n",
    "plt.show()"
   ]
  },
  {
   "cell_type": "code",
   "execution_count": null,
   "id": "c7ee9005",
   "metadata": {},
   "outputs": [],
   "source": [
    "# sample the dataset for visualisation, the plot above is too crowded\n",
    "# the sample size is 5000\n",
    "\n",
    "df_sample = df.sample(5000, random_state=42)\n",
    "df_sample.to_csv('./df_sample.csv', index= False)"
   ]
  },
  {
   "attachments": {},
   "cell_type": "markdown",
   "id": "4610c63a",
   "metadata": {},
   "source": [
    "##### Q1 map"
   ]
  },
  {
   "cell_type": "code",
   "execution_count": 34,
   "id": "5eed84da",
   "metadata": {},
   "outputs": [
    {
     "data": {
      "text/plain": [
       "113495"
      ]
     },
     "execution_count": 34,
     "metadata": {},
     "output_type": "execute_result"
    }
   ],
   "source": [
    "q1_ids = log_static.loc[(log_static['los'] <= 500) & (log_static['acuity'] <= 2 )]['stay_id'].tolist()\n",
    "len(q1_ids)"
   ]
  },
  {
   "cell_type": "code",
   "execution_count": 35,
   "id": "d524317a",
   "metadata": {},
   "outputs": [
    {
     "data": {
      "text/plain": [
       "2095633"
      ]
     },
     "execution_count": 35,
     "metadata": {},
     "output_type": "execute_result"
    }
   ],
   "source": [
    "q1_log= log.loc[log['stay_id'].isin(q1_ids)]\n",
    "len(q1_log)"
   ]
  },
  {
   "cell_type": "code",
   "execution_count": 36,
   "id": "29672647",
   "metadata": {},
   "outputs": [],
   "source": [
    "q1_log.to_csv('./q1_acuity_los.csv', index= False)"
   ]
  },
  {
   "attachments": {},
   "cell_type": "markdown",
   "id": "9a7789c7",
   "metadata": {},
   "source": [
    "##### Q4 map"
   ]
  },
  {
   "cell_type": "code",
   "execution_count": 37,
   "id": "3a87a375",
   "metadata": {},
   "outputs": [
    {
     "data": {
      "text/plain": [
       "49921"
      ]
     },
     "execution_count": 37,
     "metadata": {},
     "output_type": "execute_result"
    }
   ],
   "source": [
    "q4_ids = log_static.loc[(log_static['los'] > 500) & (log_static['acuity'] <= 2 )]['stay_id'].tolist()\n",
    "len(q4_ids)"
   ]
  },
  {
   "cell_type": "code",
   "execution_count": 38,
   "id": "53069369",
   "metadata": {},
   "outputs": [
    {
     "data": {
      "text/plain": [
       "1314433"
      ]
     },
     "execution_count": 38,
     "metadata": {},
     "output_type": "execute_result"
    }
   ],
   "source": [
    "q4_log= log.loc[log['stay_id'].isin(q4_ids)]\n",
    "len(q4_log)"
   ]
  },
  {
   "cell_type": "code",
   "execution_count": 39,
   "id": "47d2d782",
   "metadata": {},
   "outputs": [],
   "source": [
    "q4_log.to_csv('./q4_acuity_los.csv', index= False)"
   ]
  },
  {
   "cell_type": "code",
   "execution_count": 40,
   "id": "9286f011",
   "metadata": {},
   "outputs": [
    {
     "data": {
      "text/html": [
       "<div>\n",
       "<style scoped>\n",
       "    .dataframe tbody tr th:only-of-type {\n",
       "        vertical-align: middle;\n",
       "    }\n",
       "\n",
       "    .dataframe tbody tr th {\n",
       "        vertical-align: top;\n",
       "    }\n",
       "\n",
       "    .dataframe thead th {\n",
       "        text-align: right;\n",
       "    }\n",
       "</style>\n",
       "<table border=\"1\" class=\"dataframe\">\n",
       "  <thead>\n",
       "    <tr style=\"text-align: right;\">\n",
       "      <th></th>\n",
       "      <th>stay_id</th>\n",
       "      <th>gender</th>\n",
       "      <th>race</th>\n",
       "      <th>arrival_transport</th>\n",
       "      <th>disposition</th>\n",
       "      <th>los</th>\n",
       "      <th>acuity</th>\n",
       "    </tr>\n",
       "  </thead>\n",
       "  <tbody>\n",
       "    <tr>\n",
       "      <th>2</th>\n",
       "      <td>30000679</td>\n",
       "      <td>M</td>\n",
       "      <td>BLACK/AFRICAN AMERICAN</td>\n",
       "      <td>WALK IN</td>\n",
       "      <td>ADMITTED</td>\n",
       "      <td>564.0</td>\n",
       "      <td>2.0</td>\n",
       "    </tr>\n",
       "    <tr>\n",
       "      <th>10</th>\n",
       "      <td>30003389</td>\n",
       "      <td>M</td>\n",
       "      <td>WHITE</td>\n",
       "      <td>WALK IN</td>\n",
       "      <td>ADMITTED</td>\n",
       "      <td>1232.0</td>\n",
       "      <td>2.0</td>\n",
       "    </tr>\n",
       "    <tr>\n",
       "      <th>14</th>\n",
       "      <td>30005498</td>\n",
       "      <td>F</td>\n",
       "      <td>BLACK/AFRICAN AMERICAN</td>\n",
       "      <td>AMBULANCE</td>\n",
       "      <td>HOME</td>\n",
       "      <td>654.0</td>\n",
       "      <td>2.0</td>\n",
       "    </tr>\n",
       "    <tr>\n",
       "      <th>34</th>\n",
       "      <td>30014806</td>\n",
       "      <td>M</td>\n",
       "      <td>BLACK/AFRICAN AMERICAN</td>\n",
       "      <td>AMBULANCE</td>\n",
       "      <td>HOME</td>\n",
       "      <td>837.0</td>\n",
       "      <td>2.0</td>\n",
       "    </tr>\n",
       "    <tr>\n",
       "      <th>40</th>\n",
       "      <td>30016848</td>\n",
       "      <td>F</td>\n",
       "      <td>BLACK/AFRICAN AMERICAN</td>\n",
       "      <td>WALK IN</td>\n",
       "      <td>LEFT AGAINST MEDICAL ADVICE</td>\n",
       "      <td>526.0</td>\n",
       "      <td>2.0</td>\n",
       "    </tr>\n",
       "  </tbody>\n",
       "</table>\n",
       "</div>"
      ],
      "text/plain": [
       "     stay_id gender                    race arrival_transport  \\\n",
       "2   30000679      M  BLACK/AFRICAN AMERICAN           WALK IN   \n",
       "10  30003389      M                   WHITE           WALK IN   \n",
       "14  30005498      F  BLACK/AFRICAN AMERICAN         AMBULANCE   \n",
       "34  30014806      M  BLACK/AFRICAN AMERICAN         AMBULANCE   \n",
       "40  30016848      F  BLACK/AFRICAN AMERICAN           WALK IN   \n",
       "\n",
       "                    disposition     los  acuity  \n",
       "2                      ADMITTED   564.0     2.0  \n",
       "10                     ADMITTED  1232.0     2.0  \n",
       "14                         HOME   654.0     2.0  \n",
       "34                         HOME   837.0     2.0  \n",
       "40  LEFT AGAINST MEDICAL ADVICE   526.0     2.0  "
      ]
     },
     "execution_count": 40,
     "metadata": {},
     "output_type": "execute_result"
    }
   ],
   "source": [
    "q4_cohort = log_static[(log_static['acuity']<= 2) & (log_static['los'] > 500)]\n",
    "q4_cohort.head()"
   ]
  },
  {
   "cell_type": "code",
   "execution_count": 41,
   "id": "cd6b6b71",
   "metadata": {},
   "outputs": [
    {
     "data": {
      "text/plain": [
       "disposition\n",
       "ADMITTED                       22827\n",
       "ELOPED                           360\n",
       "EXPIRED                           46\n",
       "HOME                           22694\n",
       "LEFT AGAINST MEDICAL ADVICE      213\n",
       "LEFT WITHOUT BEING SEEN           25\n",
       "OTHER                            369\n",
       "TRANSFER                        3387\n",
       "Name: stay_id, dtype: int64"
      ]
     },
     "execution_count": 41,
     "metadata": {},
     "output_type": "execute_result"
    }
   ],
   "source": [
    "q4_cohort.groupby('disposition')['stay_id'].count()"
   ]
  },
  {
   "attachments": {},
   "cell_type": "markdown",
   "id": "73f00b61",
   "metadata": {},
   "source": [
    "##### Q4_home"
   ]
  },
  {
   "cell_type": "code",
   "execution_count": 42,
   "id": "77e8f6ab",
   "metadata": {},
   "outputs": [
    {
     "data": {
      "text/plain": [
       "22694"
      ]
     },
     "execution_count": 42,
     "metadata": {},
     "output_type": "execute_result"
    }
   ],
   "source": [
    "q4_home_ids = log_static.loc[(log_static['los'] > 500) & (log_static['acuity'] <= 2 ) & (log_static['disposition'] == 'HOME')]['stay_id'].tolist()\n",
    "len(q4_home_ids)"
   ]
  },
  {
   "cell_type": "code",
   "execution_count": 43,
   "id": "992c4d13",
   "metadata": {},
   "outputs": [
    {
     "data": {
      "text/plain": [
       "559481"
      ]
     },
     "execution_count": 43,
     "metadata": {},
     "output_type": "execute_result"
    }
   ],
   "source": [
    "q4_home_log= log.loc[log['stay_id'].isin(q4_home_ids)]\n",
    "len(q4_home_log)"
   ]
  },
  {
   "cell_type": "code",
   "execution_count": 44,
   "id": "1f11b1c4",
   "metadata": {},
   "outputs": [],
   "source": [
    "q4_home_log.to_csv('./q4_home.csv', index= False)"
   ]
  },
  {
   "attachments": {},
   "cell_type": "markdown",
   "id": "4038caab",
   "metadata": {},
   "source": [
    "##### Q4_admitted"
   ]
  },
  {
   "cell_type": "code",
   "execution_count": 45,
   "id": "b809403e",
   "metadata": {},
   "outputs": [
    {
     "data": {
      "text/plain": [
       "22827"
      ]
     },
     "execution_count": 45,
     "metadata": {},
     "output_type": "execute_result"
    }
   ],
   "source": [
    "q4_adm_ids = log_static.loc[(log_static['los'] > 500) & (log_static['acuity'] <= 2 ) & (log_static['disposition'] == 'ADMITTED')]['stay_id'].tolist()\n",
    "len(q4_adm_ids)"
   ]
  },
  {
   "cell_type": "code",
   "execution_count": 46,
   "id": "76138159",
   "metadata": {},
   "outputs": [
    {
     "data": {
      "text/plain": [
       "647210"
      ]
     },
     "execution_count": 46,
     "metadata": {},
     "output_type": "execute_result"
    }
   ],
   "source": [
    "q4_adm_log= log.loc[log['stay_id'].isin(q4_adm_ids)]\n",
    "len(q4_adm_log)"
   ]
  },
  {
   "cell_type": "code",
   "execution_count": 47,
   "id": "89039f98",
   "metadata": {},
   "outputs": [],
   "source": [
    "q4_adm_log.to_csv('./q4_adm.csv', index= False)"
   ]
  },
  {
   "cell_type": "code",
   "execution_count": null,
   "id": "6add48b8",
   "metadata": {},
   "outputs": [],
   "source": []
  },
  {
   "cell_type": "code",
   "execution_count": null,
   "id": "0926c1a2",
   "metadata": {},
   "outputs": [],
   "source": []
  }
 ],
 "metadata": {
  "kernelspec": {
   "display_name": "xai",
   "language": "python",
   "name": "python3"
  },
  "language_info": {
   "codemirror_mode": {
    "name": "ipython",
    "version": 3
   },
   "file_extension": ".py",
   "mimetype": "text/x-python",
   "name": "python",
   "nbconvert_exporter": "python",
   "pygments_lexer": "ipython3",
   "version": "3.10.4"
  },
  "vp": {
   "vp_config_version": "1.0.0",
   "vp_menu_width": 273,
   "vp_note_display": false,
   "vp_note_width": 0,
   "vp_position": {
    "width": 278
   },
   "vp_section_display": true,
   "vp_signature": "VisualPython"
  }
 },
 "nbformat": 4,
 "nbformat_minor": 5
}
